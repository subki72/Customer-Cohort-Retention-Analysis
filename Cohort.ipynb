{
  "nbformat": 4,
  "nbformat_minor": 0,
  "metadata": {
    "colab": {
      "provenance": [],
      "authorship_tag": "ABX9TyOMK6DuGvanl8IsxWMBZWnK",
      "include_colab_link": true
    },
    "kernelspec": {
      "name": "python3",
      "display_name": "Python 3"
    },
    "language_info": {
      "name": "python"
    }
  },
  "cells": [
    {
      "cell_type": "markdown",
      "metadata": {
        "id": "view-in-github",
        "colab_type": "text"
      },
      "source": [
        "<a href=\"https://colab.research.google.com/github/subki72/Customer-Cohort-Retention-Analysis/blob/main/Cohort.ipynb\" target=\"_parent\"><img src=\"https://colab.research.google.com/assets/colab-badge.svg\" alt=\"Open In Colab\"/></a>"
      ]
    },
    {
      "cell_type": "code",
      "execution_count": null,
      "metadata": {
        "id": "MUCcCOQjL0Hi"
      },
      "outputs": [],
      "source": [
        "import pandas as pd\n",
        "import numpy as np\n",
        "data = pd.read_csv(\"data.csv\",encoding= 'ISO-8859-1')\n",
        "print(data.head(10))\n",
        "print(data.shape)"
      ]
    },
    {
      "cell_type": "code",
      "source": [
        "pd.options.display.float_format = '{:,.0f}'.format\n",
        "data.describe()"
      ],
      "metadata": {
        "id": "mUE30FFuNFt7"
      },
      "execution_count": null,
      "outputs": []
    },
    {
      "cell_type": "code",
      "source": [
        "import dateutil\n",
        "from datetime import datetime as dt\n",
        "from pytz import utc\n",
        "\n",
        "data['datetime'] = data['InvoiceDate'].apply(lambda x: dateutil.parser.parse(x).timestamp())\n",
        "data['month'] = data['datetime'].apply(lambda x: dt.fromtimestamp(x, utc).month)\n",
        "data['year'] = data['datetime'].apply(lambda x: dt.fromtimestamp(x, utc).year)\n",
        "\n",
        "data.head()\n"
      ],
      "metadata": {
        "id": "WXbSdHS1NKx5"
      },
      "execution_count": null,
      "outputs": []
    },
    {
      "cell_type": "code",
      "source": [
        "data['cohort'] = data.apply(lambda row: (row['year']*100)+ (row['month']), axis=1)\n",
        "cohorts = data.groupby('CustomerID')['cohort'].min().reset_index()\n",
        "cohorts.columns = ['CustomerID', 'first_cohort']\n",
        "data = data.merge(cohorts, on ='CustomerID', how='left')\n",
        "data.head()"
      ],
      "metadata": {
        "id": "OC8yzIozNaFn"
      },
      "execution_count": null,
      "outputs": []
    },
    {
      "cell_type": "code",
      "source": [
        "headers = data['cohort'].value_counts().reset_index()\n",
        "headers.columns = ['Cohort', 'Count']\n",
        "headers.head()\n",
        "headers = headers.sort_values(['Cohort'])['Cohort'].to_list()\n",
        "headers"
      ],
      "metadata": {
        "id": "xbADFY1tPeOL"
      },
      "execution_count": null,
      "outputs": []
    },
    {
      "cell_type": "code",
      "source": [
        "data.dropna(inplace=True)\n",
        "data['cohort_distance'] = data.apply(lambda row: (headers.index(row['cohort']) - headers.index(row['first_cohort'])) if (row['first_cohort'] != 0 and row['cohort'] != 0) else np.nan, axis=1)\n",
        "cohort_pivot = pd.pivot_table(data, index='first_cohort', columns='cohort_distance', values='CustomerID', aggfunc=pd.Series.nunique)\n",
        "cohort_pivot\n"
      ],
      "metadata": {
        "id": "O7ucTUBpQdO1"
      },
      "execution_count": null,
      "outputs": []
    },
    {
      "cell_type": "code",
      "source": [
        "import seaborn as sns\n",
        "import matplotlib.pyplot as plt\n",
        "import numpy as np\n",
        "\n",
        "fig_dims = (14,10)\n",
        "fig, ax = plt.subplots(figsize=fig_dims)\n",
        "annot = cohort_pivot.astype(str) + '%'\n",
        "\n",
        "sns.heatmap(\n",
        "    cohort_pivot,\n",
        "    annot=annot,\n",
        "    fmt=\"\",\n",
        "    mask=cohort_pivot.isnull(),\n",
        "    ax=ax,\n",
        "    square=True,\n",
        "    linewidth=1,\n",
        "    cmap=sns.cubehelix_palette(8),\n",
        "    annot_kws={\"size\":9, \"color\":\"black\"}\n",
        ")\n",
        "\n",
        "plt.yticks(rotation=0)\n",
        "plt.show()\n",
        "\n"
      ],
      "metadata": {
        "id": "L8hq2K25QyvA"
      },
      "execution_count": null,
      "outputs": []
    }
  ]
}